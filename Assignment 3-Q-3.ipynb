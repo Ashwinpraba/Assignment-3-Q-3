{
 "cells": [
  {
   "cell_type": "markdown",
   "id": "a6e64f40",
   "metadata": {},
   "source": [
    "# Write a Python function that accepts a string and calculate the number of uppercase letters and lowercase letters."
   ]
  },
  {
   "cell_type": "code",
   "execution_count": 2,
   "id": "0660f6e8",
   "metadata": {},
   "outputs": [
    {
     "name": "stdout",
     "output_type": "stream",
     "text": [
      "Enter the string:- Python is a Programming Language.\n",
      "No.of UpperCase in the String 3\n",
      "No.of LowerCase in the String 25\n"
     ]
    }
   ],
   "source": [
    "string=input(\"Enter the string:- \")\n",
    "def up_low(string):\n",
    "  upper=0\n",
    "  lower=0\n",
    "  for i in string:\n",
    "      if i>='A' and i<='Z':\n",
    "       upper+=1\n",
    "      if i >='a' and i<='z':\n",
    "       lower+=1\n",
    "\n",
    "  print(\"No.of UpperCase in the String\",upper)\n",
    "  print(\"No.of LowerCase in the String\",lower)\n",
    "up_low(string)\n"
   ]
  },
  {
   "cell_type": "code",
   "execution_count": null,
   "id": "0e851869",
   "metadata": {},
   "outputs": [],
   "source": [
    "string=input(\"Enter the string:- \")\n",
    "def up_low(string):\n",
    "  upper=0\n",
    "  lower=0\n",
    "  for i in string:\n",
    "      if i>='A' and i<='Z':\n",
    "       upper+=1\n",
    "      if i >='a' and i<='z':\n",
    "       lower+=1\n",
    "\n",
    "  print(\"No.of UpperCase in the String\",upper)\n",
    "  print(\"No.of LowerCase in the String\",lower)\n",
    "up_low(string)\n"
   ]
  }
 ],
 "metadata": {
  "kernelspec": {
   "display_name": "Python 3 (ipykernel)",
   "language": "python",
   "name": "python3"
  },
  "language_info": {
   "codemirror_mode": {
    "name": "ipython",
    "version": 3
   },
   "file_extension": ".py",
   "mimetype": "text/x-python",
   "name": "python",
   "nbconvert_exporter": "python",
   "pygments_lexer": "ipython3",
   "version": "3.11.3"
  }
 },
 "nbformat": 4,
 "nbformat_minor": 5
}
